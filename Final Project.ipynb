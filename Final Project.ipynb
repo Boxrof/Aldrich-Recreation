{
 "cells": [
  {
   "cell_type": "code",
   "execution_count": null,
   "id": "b99b9304",
   "metadata": {
    "slideshow": {
     "slide_type": "skip"
    }
   },
   "outputs": [],
   "source": [
    "import itertools\n",
    "import random\n",
    "import networkx as nx\n",
    "import numpy as np\n",
    "import multiprocessing\n",
    "import matplotlib.pyplot as plt\n",
    "import pygraphviz as pgv\n",
    "import time\n",
    "import pickle\n",
    "import os\n",
    "import math\n",
    "import ipywidgets as widgets\n",
    "import warnings\n",
    "warnings.filterwarnings(\"ignore\")\n",
    "from mpl_toolkits.mplot3d import Axes3D"
   ]
  },
  {
   "cell_type": "markdown",
   "id": "4a8f6017",
   "metadata": {},
   "source": [
    "<div>\n",
    "    <h1> Trying to Re-create the Fractal Evolution of Gene Promoter Networks Using Aggregation </h1>\n",
    "</div>\n",
    "<br>\n",
    "<h3> Computational Biology Final Project <h3>\n",
    "By: Mohit Srivastav"
   ]
  },
  {
   "cell_type": "markdown",
   "id": "d98db072",
   "metadata": {},
   "source": [
    "<div class=\"alert alert-block alert-info\">\n",
    "    This project sought to re-create the paper, and expand upon the visualizations of, the paper by <a href=\"http://www.iaees.org/publications/journals/nb/articles/2011-1(2)/Diffusion-limited-aggregation-fractal-evolution-gene-promoter.pdf\">Professor Aldritch</a> in Benedictine University. This project sought to combine my background in Physics in diffusion limited aggregation, alongside my background in computer algorithms to re-create the findings of this paper within this Jupyter Notebook.\n",
    "</div>    "
   ]
  },
  {
   "cell_type": "markdown",
   "id": "828a4ee6",
   "metadata": {
    "slideshow": {
     "slide_type": "slide"
    }
   },
   "source": [
    "<div class=\"alert alert-block alert-info\">\n",
    "    <h1> These three functions do the following: </h1>\n",
    "    <ol>\n",
    "        <li> Produces a random string of base pairs using the bases \"A\", \"T\", \"G\", and \"C\" of a specified length </li>\n",
    "        <li> Converts a floating point real number from a uniform distribution to an integer-values index </li>\n",
    "        <li> Takes two strings and computes the number of base pairs shared in the same location between then </li>\n",
    "    </ol>\n",
    "</div>"
   ]
  },
  {
   "cell_type": "code",
   "execution_count": null,
   "id": "01c27f6e",
   "metadata": {
    "slideshow": {
     "slide_type": "subslide"
    }
   },
   "outputs": [],
   "source": [
    "def produce_random_string_of_base_pairs(length):\n",
    "    \"\"\"\n",
    "    Produces a random string of nucleotide base pairs of a specified length\n",
    "    \n",
    "    param length: the length of the string you want\n",
    "    \n",
    "    returns: A string of length \"length\" with randomized nucleotide bases\n",
    "    \n",
    "    \"\"\"\n",
    "    base_pairs = [\"A\",\"T\",\"G\",\"C\"]\n",
    "    random.seed()\n",
    "    sequence = \"\"\n",
    "    for i in range(length):\n",
    "        sequence += np.random.choice(base_pairs)[0]\n",
    "    return sequence"
   ]
  },
  {
   "cell_type": "code",
   "execution_count": null,
   "id": "dccb78a3",
   "metadata": {
    "slideshow": {
     "slide_type": "subslide"
    }
   },
   "outputs": [],
   "source": [
    "def convert_to_index(n, distr):\n",
    "    \"\"\"\n",
    "    Produces a random string of nucleotide base pairs of a specified length\n",
    "    \n",
    "    param n: The length of the iterable object you are trying to index\n",
    "    \n",
    "    param dist: The output of a uniformly distributed random number\n",
    "    \n",
    "    returns: An integer that is able to index the list whose size is given by n\n",
    "    \n",
    "    \"\"\"\n",
    "    distr = int(round(distr))\n",
    "    if distr >= n:\n",
    "        distr = n-1 #makes sure index is not greater than length\n",
    "    return distr"
   ]
  },
  {
   "cell_type": "code",
   "execution_count": null,
   "id": "70d00d26",
   "metadata": {
    "slideshow": {
     "slide_type": "subslide"
    }
   },
   "outputs": [],
   "source": [
    "def bp_distance(n1, n2):\n",
    "    \"\"\"\n",
    "    Produces a distance measurement based off of matching\n",
    "    \n",
    "    param n1: The first nucleotide sequence\n",
    "    \n",
    "    param n2: The second nucelotide sequence\n",
    "    \n",
    "    returns: A score of how many nucleotides match\n",
    "    \n",
    "    \"\"\"\n",
    "    tot = 0\n",
    "    for i,j in zip(n1, n2):\n",
    "        if i == j:\n",
    "            tot += 1\n",
    "    return tot"
   ]
  },
  {
   "cell_type": "markdown",
   "id": "547af981",
   "metadata": {
    "slideshow": {
     "slide_type": "slide"
    }
   },
   "source": [
    "<div class=\"alert alert-block alert-info\">\n",
    "<h2> Now the string length is set to 11 (as specified in the study), and the \"consensus\" nucleotide sequence this network will be based off of </h2>"
   ]
  },
  {
   "cell_type": "code",
   "execution_count": null,
   "id": "435dae67",
   "metadata": {
    "slideshow": {
     "slide_type": "fragment"
    }
   },
   "outputs": [],
   "source": [
    "F = 11\n",
    "consensus = produce_random_string_of_base_pairs(F)"
   ]
  },
  {
   "cell_type": "markdown",
   "id": "a6e3dcf8",
   "metadata": {
    "slideshow": {
     "slide_type": "slide"
    }
   },
   "source": [
    "<div class=\"alert alert-block alert-info\">\n",
    "<h1> These arrays form the probability distributions of the generation </h1>\n",
    "They come from the auxiliary tables from the study <br>\n",
    "They are then normalized in the \"generate_fitness_coefficients\" function"
   ]
  },
  {
   "cell_type": "code",
   "execution_count": null,
   "id": "cc55c0ce",
   "metadata": {
    "slideshow": {
     "slide_type": "subslide"
    }
   },
   "outputs": [],
   "source": [
    "ATT_none = np.array([0, 1.,1.,1.,1.,1.,1.,1.,1.,1.,1.,1.])\n",
    "ATT_weak = np.array([0, 0.091, 0.182, 0.273, 0.364, 0.455, 0.545, 0.636, 0.727, 0.818, 0.909, 1.])\n",
    "ATT_strong = np.array([0,0,0,0,0,0,0,0, 0.25, 0.5, 0.75, 1.])\n",
    "ATT = np.vstack((ATT_none, ATT_weak, ATT_strong)).astype('float64')\n",
    "print(ATT)"
   ]
  },
  {
   "cell_type": "code",
   "execution_count": null,
   "id": "ee3a17e0",
   "metadata": {
    "slideshow": {
     "slide_type": "fragment"
    }
   },
   "outputs": [],
   "source": [
    "REP_none = np.array([0,1.,1.,1.,1.,1.,1.,1.,1.,1.,1.,1.])\n",
    "REP_weak = np.array([1,1,1,1,1,1,1,1,1,1,0.5,0])\n",
    "REP_strong = np.array([1,1,1,1,1,1,1,1,0.5,0,0,0])\n",
    "REP = np.vstack((REP_none, REP_weak, REP_strong)).astype('float64')\n",
    "print(REP)"
   ]
  },
  {
   "cell_type": "code",
   "execution_count": null,
   "id": "3e266938",
   "metadata": {
    "slideshow": {
     "slide_type": "fragment"
    }
   },
   "outputs": [],
   "source": [
    "Intrinsic = np.array([0.113935, 0.202643, 0.258547, 0.218363, 0.129674, \n",
    "                              0.054951, 0.017257, 0.003908, 0.000640, 0.000077, 0.000005, 0]).astype('float64')\n",
    "print(Intrinsic)"
   ]
  },
  {
   "cell_type": "code",
   "execution_count": null,
   "id": "75426d32",
   "metadata": {
    "slideshow": {
     "slide_type": "subslide"
    }
   },
   "outputs": [],
   "source": [
    "def generate_fitness_coefficients(ATT_val, REP_val): \n",
    "    \"\"\"\n",
    "    Takes in two numbers about the intensity of the repulsion or attraction and returns a probability distribution\n",
    "        \n",
    "    param ATT_val: The index for which row of the ATT matrix you want (0 -> no attraction, 1 -> weak attraction\n",
    "                    2 -> strong attraction)\n",
    "                    \n",
    "    param REP_val: The index for which row of the REP matrix you want (0 -> no repulsion, 1 -> weak repulsion\n",
    "                    2 -> strong repulsion)\n",
    "    \n",
    "    returns: An overall probability distribution that is normalized for proper GPN generation\n",
    "    \n",
    "    \"\"\"\n",
    "    if ATT_val > 2 or REP_val > 2:\n",
    "        raise ValueError(\"values must be between 0 and 2 inclusive!\")\n",
    "        \n",
    "    overall = Intrinsic*ATT[ATT_val]*REP[REP_val]\n",
    "    overall *= (1./sum(overall))\n",
    "    return overall"
   ]
  },
  {
   "cell_type": "markdown",
   "id": "1a5c8c24",
   "metadata": {
    "slideshow": {
     "slide_type": "slide"
    }
   },
   "source": [
    "<div class=\"alert alert-block alert-info\">\n",
    "<h1> Promoters are then generated using the fitness coefficients. The function to make them, and distributions for all possible combinations of variables are depicted below</h1>"
   ]
  },
  {
   "cell_type": "code",
   "execution_count": null,
   "id": "0513a710",
   "metadata": {
    "slideshow": {
     "slide_type": "subslide"
    }
   },
   "outputs": [],
   "source": [
    "def generate_promoter(Dup_rate, consensus, fitness_coefficients):\n",
    "    \"\"\"\n",
    "    Generates a GPN using the various conditions\n",
    "    \n",
    "    param Dup_rate: The rate at which the consensus sequence is duplicated\n",
    "        \n",
    "    param consensus: The consensus nucleotide sequence which the GPN is centered on\n",
    "                    \n",
    "    param fitness_coefficients: The probability distribution generated by the \"generate_fitness_coefficients\" function\n",
    "    \n",
    "    returns: A new promoter that varies in some way, or is a duplicate of, the consensus sequence\n",
    "    \n",
    "    \"\"\"\n",
    "    prob = random.uniform(0,1)\n",
    "    if prob <= Dup_rate:\n",
    "        return consensus\n",
    "    \n",
    "    bp_sharing = 0\n",
    "    while(bp_sharing == 0): #something always needs to be shared\n",
    "        bp_sharing = np.random.choice(np.arange(F+1), p=fitness_coefficients) #select based off of the fitness coefficients\n",
    "\n",
    "    changed = {} #dictionary for duplicate checking\n",
    "    new_promoter = consensus\n",
    "    \n",
    "    for i in range(F - bp_sharing):\n",
    "        index = np.random.choice(np.arange(0,F))\n",
    "        while(changed.get(index) != None): #keep looping until something that was not found is found\n",
    "            index = np.random.choice(np.arange(0,F))\n",
    "        changed[index] = True\n",
    "        new_promoter = new_promoter[:index] + np.random.choice([\"A\",\"T\",\"G\",\"C\"])[0] + new_promoter[index + 1:]\n",
    "    return new_promoter"
   ]
  },
  {
   "cell_type": "code",
   "execution_count": null,
   "id": "e33c599a",
   "metadata": {
    "slideshow": {
     "slide_type": "skip"
    }
   },
   "outputs": [],
   "source": [
    "def histo_title_generator(ATT_val, REP_val):\n",
    "    figtitle = \"\"\n",
    "    \n",
    "    if ATT_val == 0:\n",
    "        figtitle += \"ATT-NONE \"\n",
    "    elif ATT_val == 1:\n",
    "        figtitle += \"ATT-WEAK \"\n",
    "    else:\n",
    "        figtitle += \"ATT-STRONG \"\n",
    "    \n",
    "    figtitle += \" \"*5\n",
    "    \n",
    "    if REP_val == 0:\n",
    "        figtitle += \"REP-NONE \"\n",
    "    elif REP_val == 1:\n",
    "        figtitle += \"REP-WEAK \"\n",
    "    else:\n",
    "        figtitle += \"REP-STRONG \"\n",
    "    \n",
    "    return figtitle"
   ]
  },
  {
   "cell_type": "code",
   "execution_count": null,
   "id": "e345c06f",
   "metadata": {
    "slideshow": {
     "slide_type": "skip"
    }
   },
   "outputs": [],
   "source": [
    "def run_visualization():\n",
    "    \"\"\"\n",
    "    Generates 3000 promoters of each attribute style and plots it in a series of histograms\n",
    "    \n",
    "    return: the histograms for each parameter in its similarity to the consensus gene\n",
    "    \n",
    "    \"\"\"\n",
    "    histo_stuff = {}\n",
    "    for dup_rate in (0,0.15,0.3):\n",
    "        for att in range(3):\n",
    "            for rep in range(3):\n",
    "                for prom in range(3000):\n",
    "                    promoter_generated = generate_promoter(dup_rate, consensus, generate_fitness_coefficients(att, rep))\n",
    "                    if prom == 0:\n",
    "                        histo_stuff[(dup_rate, att, rep)] = [bp_distance(promoter_generated, consensus)]\n",
    "                    else:\n",
    "                        histo_stuff[(dup_rate, att, rep)] += [bp_distance(promoter_generated, consensus)]\n",
    "\n",
    "    fig, ax = plt.subplots(3,3, figsize=(3*10,3*7), sharey=True, sharex=True);\n",
    "    plt.ylim(top=0.5);\n",
    "\n",
    "    for i in sorted(histo_stuff.keys()):\n",
    "        if i[2] == 0:\n",
    "            if i[1] == 0:\n",
    "                ax[0][0].hist(histo_stuff[i], histtype='step', label=\"DUP_RATE=\"+str(i[0]), range=(0,12), density=True, lw=5);\n",
    "                ax[0][0].legend(loc=\"upper left\", prop={'size': 30});\n",
    "                ax[0][0].set_title(histo_title_generator(*i[1:]), fontsize='40')\n",
    "                ax[0][0].tick_params(axis = 'both', which = 'major', labelsize = 30);\n",
    "            elif i[1] == 1:\n",
    "                ax[0][1].hist(histo_stuff[i], histtype='step', label=\"DUP_RATE=\"+str(i[0]), range=(0,12), density=True, lw=5);\n",
    "                ax[0][1].legend(loc=\"upper left\", prop={'size': 30});\n",
    "                ax[0][1].set_title(histo_title_generator(*i[1:]), fontsize='40')\n",
    "                ax[0][1].tick_params(axis = 'both', which = 'major', labelsize = 30);\n",
    "            else:\n",
    "                ax[0][2].hist(histo_stuff[i], histtype='step', label=\"DUP_RATE=\"+str(i[0]), range=(0,12), density=True, lw=5);\n",
    "                ax[0][2].legend(loc=\"upper left\", prop={'size': 30});\n",
    "                ax[0][2].set_title(histo_title_generator(*i[1:]), fontsize='40')\n",
    "                ax[0][2].tick_params(axis = 'both', which = 'major', labelsize = 30);\n",
    "\n",
    "        elif i[2] == 1:\n",
    "            if i[1] == 0:\n",
    "                ax[1][0].hist(histo_stuff[i], histtype='step', label=\"DUP_RATE=\"+str(i[0]), range=(0,12), density=True, lw=5);\n",
    "                ax[1][0].legend(loc=\"upper left\", prop={'size': 30});\n",
    "                ax[1][0].set_title(histo_title_generator(*i[1:]), fontsize='40')\n",
    "                ax[1][0].tick_params(axis = 'both', which = 'major', labelsize = 30);\n",
    "            elif i[1] == 1:\n",
    "                ax[1][1].hist(histo_stuff[i], histtype='step', label=\"DUP_RATE=\"+str(i[0]), range=(0,12), density=True, lw=5);\n",
    "                ax[1][1].legend(loc=\"upper left\", prop={'size': 30});\n",
    "                ax[1][1].set_title(histo_title_generator(*i[1:]), fontsize='40')\n",
    "                ax[1][1].tick_params(axis = 'both', which = 'major', labelsize = 30);\n",
    "            else:\n",
    "                ax[1][2].hist(histo_stuff[i], histtype='step', label=\"DUP_RATE=\"+str(i[0]), range=(0,12), density=True, lw=5);\n",
    "                ax[1][2].legend(loc=\"upper left\", prop={'size': 30});\n",
    "                ax[1][2].set_title(histo_title_generator(*i[1:]), fontsize='40')\n",
    "                ax[1][2].tick_params(axis = 'both', which = 'major', labelsize = 30);\n",
    "\n",
    "        elif i[2] == 2:\n",
    "            if i[1] == 0:\n",
    "                ax[2][0].hist(histo_stuff[i], histtype='step', label=\"DUP_RATE=\"+str(i[0]), range=(0,12), density=True, lw=5);\n",
    "                ax[2][0].legend(loc=\"upper left\", prop={'size': 30});\n",
    "                ax[2][0].set_title(histo_title_generator(*i[1:]), fontsize='40')\n",
    "                ax[2][0].tick_params(axis = 'both', which = 'major', labelsize = 30);\n",
    "            elif i[1] == 1:\n",
    "                ax[2][1].hist(histo_stuff[i], histtype='step', label=\"DUP_RATE=\"+str(i[0]), range=(0,12), density=True, lw=5);\n",
    "                ax[2][1].legend(loc=\"upper left\", prop={'size': 30});\n",
    "                ax[2][1].set_title(histo_title_generator(*i[1:]), fontsize='40')\n",
    "                ax[2][1].tick_params(axis = 'both', which = 'major', labelsize = 30);\n",
    "            else:\n",
    "                ax[2][2].hist(histo_stuff[i], histtype='step', label=\"DUP_RATE=\"+str(i[0]), range=(0,12), density=True, lw=5);\n",
    "                ax[2][2].legend(loc=\"upper left\", prop={'size': 30});\n",
    "                ax[2][2].set_title(histo_title_generator(*i[1:]), fontsize='40')\n",
    "                ax[2][2].tick_params(axis = 'both', which = 'major', labelsize = 30);\n",
    "\n",
    "    fig.suptitle(\"Distribution of 3000 Generated Promoters' Similarity with the Consensus\", fontsize='60', y=1);\n",
    "    plt.tight_layout();\n",
    "    plt.show();"
   ]
  },
  {
   "cell_type": "markdown",
   "id": "6035de6b",
   "metadata": {
    "slideshow": {
     "slide_type": "slide"
    }
   },
   "source": [
    "<div class=\"alert alert-block alert-info\">\n",
    "<h1> The distributions of the bp matching scores for 3000 different randomly generated promoters with all possible combinations of values are depicted in the following slide </h1> </center>"
   ]
  },
  {
   "cell_type": "code",
   "execution_count": null,
   "id": "f9d1e7f1",
   "metadata": {
    "slideshow": {
     "slide_type": "subslide"
    }
   },
   "outputs": [],
   "source": [
    "run_visualization()"
   ]
  },
  {
   "cell_type": "markdown",
   "id": "ce2f6314",
   "metadata": {
    "slideshow": {
     "slide_type": "slide"
    }
   },
   "source": [
    "<div class=\"alert alert-block alert-warning\">\n",
    "\n",
    "<h1> The fractal number of boxes required for a graph, in order to get its fractal dimension, is done using the <em> fractal_analysis</em> function, which uses the <em> box_creation </em> function repeatedly. </h1>\n",
    "<h3> A single box is created as below, and then repeated until the entire network is covered by boxes\n",
    "    <ol>\n",
    "        <li>Construct the set C of all yet uncovered nodes</li>\n",
    "        <li>Choose a random node <em>p</em> from C and remove it from C</li>\n",
    "        <li>Remove from C all nodes whose distance from p is $\\geq l_B$, since by definition they will not be in the same box </li>\n",
    "        <li> Repeat steps 2 and 3 until C is empty </li>\n",
    "    </ol>\n",
    "</h3>"
   ]
  },
  {
   "attachments": {
    "image.png": {
     "image/png": "[encoded data removed]"
    }
   },
   "cell_type": "markdown",
   "id": "b369a06d",
   "metadata": {
    "slideshow": {
     "slide_type": "fragment"
    }
   },
   "source": [
    "![image.png](attachment:image.png)"
   ]
  },
  {
   "cell_type": "code",
   "execution_count": null,
   "id": "21f21827",
   "metadata": {
    "slideshow": {
     "slide_type": "skip"
    }
   },
   "outputs": [],
   "source": [
    "def m_slice(m, G):\n",
    "    \"\"\"\n",
    "    Takes in a graph and removes all edges with weight < m, and all isolated nodes afterwards\n",
    "        \n",
    "    param m: The value for which each edge will be compared to\n",
    "                    \n",
    "    param G: The graph being operated on\n",
    "    \n",
    "    returns: A new graph with all edge weights >= m and all isolated nodes removed\n",
    "    \n",
    "    \"\"\"\n",
    "    GPrime = G.copy()\n",
    "    to_remove = []\n",
    "    for edge in G.edges(data=True):\n",
    "        if edge[2]['weight'] < m:\n",
    "            to_remove.append((edge[0], edge[1]))\n",
    "    GPrime.remove_edges_from(to_remove)\n",
    "    GPrime.remove_nodes_from(list(nx.isolates(GPrime)))\n",
    "    return GPrime"
   ]
  },
  {
   "cell_type": "code",
   "execution_count": null,
   "id": "ce2c1a10",
   "metadata": {
    "slideshow": {
     "slide_type": "subslide"
    }
   },
   "outputs": [],
   "source": [
    "def box_creation(uncovered, L_b, labels):\n",
    "    \"\"\"\n",
    "    Takes in a set of currently uncovered nodes and \n",
    "    makes 1 box out of a randomly generated node\n",
    "        \n",
    "    param uncovered: The set of uncovered nodes\n",
    "                    \n",
    "    param L_b: the length value for which to compare\n",
    "    \n",
    "    param labels: the graph labels which dictate distance\n",
    "    \n",
    "    returns: a single box\n",
    "    \n",
    "    \"\"\"\n",
    "    total_nodes = uncovered.copy()\n",
    "    chosen_nodes = set()\n",
    "    while(len(total_nodes) != 0):\n",
    "        p = np.random.choice(list(total_nodes))\n",
    "        total_nodes.remove(p)\n",
    "        chosen_nodes.add(p)\n",
    "        \n",
    "        to_remove = set()\n",
    "        for node in total_nodes:\n",
    "            if bp_distance(labels[node], labels[p]) >= L_b:\n",
    "                to_remove.add(node)\n",
    "        \n",
    "        total_nodes -= to_remove\n",
    "    \n",
    "    return chosen_nodes #this is a single box"
   ]
  },
  {
   "cell_type": "code",
   "execution_count": null,
   "id": "26a5fc3e",
   "metadata": {
    "slideshow": {
     "slide_type": "subslide"
    }
   },
   "outputs": [],
   "source": [
    "def fractal_analysis(G, L_b, labels):\n",
    "    \"\"\"\n",
    "    Takes in a set of currently uncovered nodes and \n",
    "    returns the number of boxes required for this graph and the given length\n",
    "        \n",
    "    param G: The graph\n",
    "                    \n",
    "    param L_b: the length value for which to compare\n",
    "    \n",
    "    param labels: the graph labels which dictate distance\n",
    "    \n",
    "    returns: The number of boxes required\n",
    "    \n",
    "    \"\"\"\n",
    "    graph_uncovered = set(G.nodes)\n",
    "    \n",
    "    color = 0\n",
    "    while(len(graph_uncovered) > 0): #while you haven't covered the whole graph\n",
    "        graph_uncovered -= box_creation(graph_uncovered, L_b, labels)\n",
    "        color += 1\n",
    "    \n",
    "    return color #returns N_b"
   ]
  },
  {
   "cell_type": "markdown",
   "id": "2f88ab77",
   "metadata": {
    "slideshow": {
     "slide_type": "slide"
    }
   },
   "source": [
    "<div class=\"alert alert-block alert-warning\">\n",
    "\n",
    "<p>The secant method is a method for finding the zero of a given function given an interval $[a,b]$ where $f(a)*f(b) < 0$ and f(x) is continuous, or that there exists a point between a and b where the function intercepts the x axis. It is possible to use the secant method when determining $$\\frac{N_B}{N} = l_B^{-d_B},$$ where $N_B$ is the number of \"boxes\" when coloring the graph using the <em>fractal_analysis</em> function, $N$ the total number of nodes, $l_B$ the edge length used for the boxes, and $d_B$ the fractal dimension.</p>\n",
    "<br>\n",
    "Since $N_B, N,$ and $l_B$ are known quantities, the function $f(d_B) = l_B^{-d_B} - \\frac{N_B}{N} = 0$ can be solved for $d_B$ using the secant method. At $d_B=0, f(d_B)$ is guaranteed to be positive as $\\frac{N_B}{N} \\leq 1 \\quad \\forall \\{N, N_B | N_B \\leq N\\}$. From this, the first negative value is scanned for in integer increments, and the first $d_B'$ where $f(d_B') < 0$ is taken as the second point in the interval. From this, the secant method can go on as normal.\n",
    "<br>\n",
    "The secant method is a way to approximate the zero of a function through the usage of secant lines. It is an iterative method where the next point, $p_{n+1}$, is determined by $p_n, p_{n-1}, f(p_n), \\text{ and } f(p_{n-1})$. Namely,\n",
    "$$p_{n+1} = p_n - f(p_n)\\frac{p_n - p_{n-1}}{f(p_n) - f(p_{n-1})}$$"
   ]
  },
  {
   "cell_type": "code",
   "execution_count": null,
   "id": "1c0229ca",
   "metadata": {
    "slideshow": {
     "slide_type": "subslide"
    }
   },
   "outputs": [],
   "source": [
    "def f(N_b, N, L_b, x):\n",
    "    \"\"\"\n",
    "    The function f(d_B) from the above cell.\n",
    "    \n",
    "    param N_b: the number of boxes from the fractal_analysis function\n",
    "    \n",
    "    param N: the number of nodes in the graph being analyzed\n",
    "    \n",
    "    param L_b: the chemical length unit being used for the function\n",
    "    \n",
    "    param x: the d_B value that the function is varying\n",
    "    \n",
    "    return: the value of the function\n",
    "    \n",
    "    \"\"\"\n",
    "    return L_b**(-x) - (N_b/N)\n",
    "\n",
    "def find_negative(f, N_b, N, L_b, starting_point):\n",
    "    \"\"\"\n",
    "    The function finds the first negative value of a function beginning at a starting point\n",
    "    \n",
    "    param f: The function being used\n",
    "    \n",
    "    param N_b: the number of boxes from the fractal_analysis function\n",
    "    \n",
    "    param N: the number of nodes in the graph being analyzed\n",
    "    \n",
    "    param L_b: the chemical length unit being used for the function\n",
    "    \n",
    "    param starting_point: the point at which the function will start moving in a positive direction to scan from\n",
    "    \n",
    "    return: the first integer value found from the scan in the positive direction that is < 0\n",
    "    \n",
    "    \"\"\"\n",
    "    secant_next = starting_point\n",
    "    nextVal = np.inf\n",
    "    while nextVal >= 0:\n",
    "        secant_next += 1\n",
    "        nextVal = f(N_b, N, L_b, secant_next)\n",
    "        \n",
    "    return [secant_next]\n",
    "\n",
    "def secant_method(f, N_b, N, L_b, valuesList):\n",
    "    \"\"\"\n",
    "    A rootfinding method for a given function\n",
    "    \n",
    "    param f: The function being used\n",
    "    \n",
    "    param N_b: the number of boxes from the fractal_analysis function\n",
    "    \n",
    "    param N: the number of nodes in the graph being analyzed\n",
    "    \n",
    "    param L_b: the chemical length unit being used for the function\n",
    "    \n",
    "    param valuesList: a list of the values generated by the interval points a,b and the next points associated\n",
    "    \n",
    "    return: the value p_{n+1} which is closer to the root value\n",
    "    \n",
    "    \"\"\"\n",
    "    f_pn = f(N_b, N, L_b, valuesList[-1])\n",
    "    f_pn_1 = f(N_b, N, L_b, valuesList[-2])\n",
    "    return valuesList[-1] - f_pn*(valuesList[-1] - valuesList[-2])/(f_pn - f_pn_1)"
   ]
  },
  {
   "cell_type": "code",
   "execution_count": null,
   "id": "3e8a0640",
   "metadata": {
    "slideshow": {
     "slide_type": "skip"
    }
   },
   "outputs": [],
   "source": [
    "def fig_title_generator(DUP_RATE, ATT_val, REP_val, mult=False):\n",
    "    \"\"\"\n",
    "    Generates the title for the figure\n",
    "    \n",
    "    param DUP_RATE: The duplication rate of the figure\n",
    "    \n",
    "    param ATT_val: the attraction index\n",
    "    \n",
    "    param REP_val: the repulsion index\n",
    "    \n",
    "    param mult: the number of edges relative to the number of nodes. A value of false means #E = #N^2\n",
    "        \n",
    "    return: a title for the figure given the specific attributes\n",
    "    \n",
    "    \"\"\"\n",
    "    figtitle = \"\"\n",
    "    \n",
    "    if mult == False:\n",
    "        figtitle += \"#E = #N^2 \"\n",
    "    else:\n",
    "        figtitle += \"#E = \" + str(mult) + \"*#N \"\n",
    "        \n",
    "    figtitle += \" \"*5\n",
    "    \n",
    "    if ATT_val == 0:\n",
    "        figtitle += \"ATT-NONE \"\n",
    "    elif ATT_val == 1:\n",
    "        figtitle += \"ATT-WEAK \"\n",
    "    else:\n",
    "        figtitle += \"ATT-STRONG \"\n",
    "    \n",
    "    figtitle += \" \"*5\n",
    "    \n",
    "    if REP_val == 0:\n",
    "        figtitle += \"REP-NONE \"\n",
    "    elif REP_val == 1:\n",
    "        figtitle += \"REP-WEAK \"\n",
    "    else:\n",
    "        figtitle += \"REP-STRONG \"\n",
    "        \n",
    "    figtitle += \" \"*5\n",
    "    \n",
    "    figtitle += \"DUP_RATE=\" + str(DUP_RATE)\n",
    "    \n",
    "    return figtitle"
   ]
  },
  {
   "cell_type": "code",
   "execution_count": null,
   "id": "42fab0b9",
   "metadata": {
    "slideshow": {
     "slide_type": "skip"
    }
   },
   "outputs": [],
   "source": [
    "def workflow(iterations, DUP_RATE, ATT_val, REP_val, mult = False, dist_func=bp_distance):\n",
    "    \"\"\"\n",
    "    The actual function for generating and analyzing the graph for the study\n",
    "        \n",
    "    param DUP_RATE: The duplication rate of the promoter generation\n",
    "    \n",
    "    param ATT_val: The attraction index of the promoter generation\n",
    "    \n",
    "    param REP_val: The repulsion index of the promoter generation\n",
    "                    \n",
    "    param mult: The number of edges generated relative to the number of nodes. False means there are N^2 edges for each node\n",
    "    \n",
    "    param dist_func: The distance function used to generate distances between nodes\n",
    "    \n",
    "    returns: A dictionary of dictionaries with each m slice and the fractal dimension of that slice\n",
    "    \n",
    "    \"\"\"\n",
    "    G = nx.Graph()\n",
    "    labels = {}\n",
    "    fractal_dim = {}\n",
    "    overall_key = {}\n",
    "    \n",
    "    fig, ax = plt.subplots(1, F - 2, figsize = (10*(F-1), 10))\n",
    "    \n",
    "    fig.suptitle(fig_title_generator(DUP_RATE, ATT_val, REP_val, mult), fontsize='80')\n",
    "    \n",
    "    REF_PROB_LIST = generate_fitness_coefficients(ATT_val, REP_val)\n",
    "    \n",
    "    for i in range(iterations):\n",
    "        promotion = generate_promoter(DUP_RATE, consensus, REF_PROB_LIST)\n",
    "        labels[i] = promotion\n",
    "        G.add_node(i)\n",
    "        edges_to_add = []\n",
    "        for j in range(i):\n",
    "            edges_to_add.append((i,j, dist_func(labels[i], labels[j]))) #adds to the list of edges to add\n",
    "            \n",
    "        if mult:\n",
    "            edges_to_add = sorted(edges_to_add, key=lambda tup: tup[2], reverse=True)\n",
    "            edges_to_add = edges_to_add[:mult] #only adds the multiplier number of edges per node\n",
    "            G.add_weighted_edges_from(edges_to_add)\n",
    "        else:\n",
    "            G.add_weighted_edges_from(edges_to_add)\n",
    "            \n",
    "    for m in range(2, F):\n",
    "        G = m_slice(m, G) #takes the m slice of the graph\n",
    "        try:\n",
    "            ccs = G.subgraph(max(nx.connected_components(G), key=len)) #if there is no connected component throws an error\n",
    "            pos = nx.nx_pydot.graphviz_layout(ccs) #lays out the new graph\n",
    "            nx.draw_networkx(ccs, ax=ax[m - 2], pos=pos)\n",
    "            ax[m - 2].set_title(\"m=\" + str(m) + \" with \" + str(len(ccs.nodes)) + \" nodes\", fontsize='72')\n",
    "\n",
    "            N_b = fractal_analysis(ccs, m, labels)\n",
    "            N = len(ccs.nodes)\n",
    "            valuesList = [0]\n",
    "            valuesList += find_negative(f, N_b, N, m, 0)\n",
    "\n",
    "            while abs(valuesList[-1] - valuesList[-2]) > 5e-6: #work down to a 10^-6 precision\n",
    "                valuesList.append(secant_method(f, N_b, N, m, valuesList))\n",
    "\n",
    "            fractal_dim[m] = valuesList[-1]\n",
    "            \n",
    "        except:\n",
    "            nx.draw_networkx(nx.Graph(), ax=ax[m-2]) #plot an empty graph\n",
    "            ax[m - 2].set_title(\"m=\" + str(m), fontsize='72')\n",
    "        \n",
    "    fig.tight_layout()\n",
    "    plt.show()\n",
    "    overall_key[(DUP_RATE, ATT_val, REP_val, mult)] = fractal_dim\n",
    "    return overall_key"
   ]
  },
  {
   "cell_type": "code",
   "execution_count": null,
   "id": "1664b450",
   "metadata": {},
   "outputs": [],
   "source": [
    "def workflowVisualization(iterations, DUP_RATE, ATT_val, REP_val, mult = False, dist_func=bp_distance):\n",
    "    \"\"\"\n",
    "    A subset of the actual workflow function below to simply visualize the way that graphs are produced\n",
    "        \n",
    "    param DUO_RATE: The duplication rate of the promoter generation\n",
    "    \n",
    "    param ATT_val: The attraction index of the promoter generation\n",
    "    \n",
    "    param REP_val: The repulsion index of the promoter generation\n",
    "                    \n",
    "    param mult: The number of edges generated relative to the number of nodes. False means there are N^2 edges for each node\n",
    "    \n",
    "    param dist_func: The distance function used to generate distances between nodes\n",
    "    \n",
    "    returns: a set of subplots showing the way the graph has progressed\n",
    "    \n",
    "    \"\"\"\n",
    "    G = nx.Graph() #The graph being done\n",
    "    labels = {} #The node labels\n",
    "    \n",
    "    val = int(math.sqrt(iterations))\n",
    "    \n",
    "    fig, ax = plt.subplots(val, val, figsize = (10*val, 10*val))\n",
    "    \n",
    "    fig.suptitle(fig_title_generator(DUP_RATE, ATT_val, REP_val, mult), fontsize=80, y=1)\n",
    "    \n",
    "    REF_PROB_LIST = generate_fitness_coefficients(ATT_val, REP_val)\n",
    "    \n",
    "    for i in range(iterations):\n",
    "        promotion = generate_promoter(DUP_RATE, consensus, REF_PROB_LIST)\n",
    "        labels[i] = promotion\n",
    "        G.add_node(i)\n",
    "        edges_to_add = []\n",
    "        for j in range(i):\n",
    "            edges_to_add.append((i,j, dist_func(labels[i], labels[j]))) #adds to the list of edges to add\n",
    "            \n",
    "        if mult:\n",
    "            edges_to_add = sorted(edges_to_add, key=lambda tup: tup[2], reverse=True)\n",
    "            edges_to_add = edges_to_add[:mult] #only adds the multiplier number of edges per node\n",
    "            G.add_weighted_edges_from(edges_to_add)\n",
    "        else:\n",
    "            G.add_weighted_edges_from(edges_to_add)\n",
    "        \n",
    "        xindex = i//val\n",
    "        yindex = i % val\n",
    "        \n",
    "        pos=nx.nx_pydot.graphviz_layout(G)\n",
    "        if i > 0:\n",
    "            edges,weights = zip(*nx.get_edge_attributes(G,'weight').items())\n",
    "            \n",
    "            nx.draw_networkx(G, pos=pos, font_size=50, ax=ax[xindex][yindex], \n",
    "                             node_size=4000,edgelist=edges, edge_color=weights, width=10.0, \n",
    "                             edge_cmap=plt.cm.plasma, font_color='whitesmoke')\n",
    "            \n",
    "            ax[xindex][yindex].set_title(\"iteration \" + str(i), fontsize='60')\n",
    "            \n",
    "            labels2 = nx.get_edge_attributes(G,'weight')\n",
    "            nx.draw_networkx_edge_labels(G,pos,edge_labels=labels2, ax=ax[xindex][yindex], font_size='40')\n",
    "        else:\n",
    "            nx.draw_networkx(G, pos=pos, font_size=50, ax=ax[xindex][yindex], node_size=4000, font_color='whitesmoke')\n",
    "            ax[xindex][yindex].set_title(\"iteration \" + str(i), fontsize='60')\n",
    "        \n",
    "        \n",
    "    plt.tight_layout();\n",
    "    plt.show();"
   ]
  },
  {
   "cell_type": "code",
   "execution_count": null,
   "id": "8bdbc404",
   "metadata": {},
   "outputs": [],
   "source": [
    "workflowVisualization(9,0.1,0,0,mult=1);"
   ]
  },
  {
   "cell_type": "code",
   "execution_count": null,
   "id": "2955bb12",
   "metadata": {
    "slideshow": {
     "slide_type": "skip"
    }
   },
   "outputs": [],
   "source": [
    "values = []\n",
    "for dup_rate in (0,0.15,0.3):\n",
    "    for att in range(3):\n",
    "        for rep in range(3):\n",
    "            for mult in (1,2,3): #generates a list of values for the function when multiprocessing\n",
    "                values.append((dup_rate, att, rep, mult))\n",
    "\n",
    "values = tuple(values)\n",
    "print(values)"
   ]
  },
  {
   "cell_type": "code",
   "execution_count": null,
   "id": "67b1f21f",
   "metadata": {
    "slideshow": {
     "slide_type": "skip"
    }
   },
   "outputs": [],
   "source": [
    "def run(dup_rate, att, rep, mult):\n",
    "    \"\"\"\n",
    "    Worker function for the multiprocessing of the workflow function\n",
    "        \n",
    "    param dup_rate: The duplication rate of the workflow function\n",
    "    \n",
    "    param att: The attraction index for the workflow function\n",
    "    \n",
    "    param rep: The repulsion index for the workflow function\n",
    "                    \n",
    "    param mult: The multiplicative edge value for the workflow function\n",
    "    \n",
    "    returns: The result of the workflow function (which is accumulated into a list by the multiprocessing below)\n",
    "    \n",
    "    \"\"\"\n",
    "    print(\" \", end='') #required to show graphs for some reason\n",
    "    return workflow(500, dup_rate, att, rep, mult)"
   ]
  },
  {
   "cell_type": "code",
   "execution_count": null,
   "id": "f8d7fdce",
   "metadata": {
    "slideshow": {
     "slide_type": "skip"
    }
   },
   "outputs": [],
   "source": [
    "list_of_values = [] #keeps the list of values generated by the multiprocessing\n",
    "start_time = time.time() #records the time taken just as a curiosity to see how long it takes\n",
    "if __name__ == \"__main__\": #multiprocessing to save time on the actual computation\n",
    "    with multiprocessing.Pool() as m:\n",
    "        list_of_values = m.starmap(run, values) #this will return all of the dimensions into the list\n",
    "print(time.time() - start_time)"
   ]
  },
  {
   "cell_type": "code",
   "execution_count": null,
   "id": "07ab41ad",
   "metadata": {
    "slideshow": {
     "slide_type": "skip"
    }
   },
   "outputs": [],
   "source": [
    "# with open('fractal_data.pkl', 'wb+') as file:\n",
    "#     pickle.dump(list_of_values, file) #so that you do not have to re-run the file\n",
    "# #MAKE SURE YOU DO NOT RUN THIS WHEN LOADING THE DATA AFTERWARDS, IT WILL WIPE THE DATA"
   ]
  },
  {
   "cell_type": "code",
   "execution_count": null,
   "id": "55a25434",
   "metadata": {
    "slideshow": {
     "slide_type": "skip"
    }
   },
   "outputs": [],
   "source": [
    "file = open('fractal_data.pkl', 'rb') #opens the saved data\n",
    "list_of_values = pickle.load(file)\n",
    "file.close()"
   ]
  },
  {
   "cell_type": "code",
   "execution_count": null,
   "id": "addc193b",
   "metadata": {
    "slideshow": {
     "slide_type": "skip"
    }
   },
   "outputs": [],
   "source": [
    "def line_title_generator(DUP, MULT):\n",
    "    \"\"\"\n",
    "    A way to generate line titles for the legend\n",
    "    \n",
    "    param DUP: The duplication rate\n",
    "    \n",
    "    param MULT: The multiplication rate\n",
    "    \n",
    "    return: a title string based off of the fig title generator title\n",
    "    \n",
    "    \"\"\"\n",
    "    x = fig_title_generator(DUP,0,0,MULT).split()\n",
    "    return x[0] + x[1] + x[2] + \" \" + x[-1]"
   ]
  },
  {
   "cell_type": "code",
   "execution_count": null,
   "id": "41fdf6b0",
   "metadata": {
    "slideshow": {
     "slide_type": "skip"
    }
   },
   "outputs": [],
   "source": [
    "def visualize_fractal_dims(pltstyle):\n",
    "    \"\"\"\n",
    "    A rootfinding method for a given function\n",
    "    \n",
    "    param pltstyle: The yscale style for the function (linear, log, logit, etc.)\n",
    "    \n",
    "    return: a visualization of the fractal dimension by the REP and ATT attributes\n",
    "    \n",
    "    \"\"\"\n",
    "    fig, ax = plt.subplots(3,3,figsize=(11*3,7*3), sharey=True, sharex=True)\n",
    "\n",
    "    for i in list_of_values:\n",
    "        for title, j in i.items():\n",
    "            x = []\n",
    "            y = []\n",
    "            for key, value in j.items():\n",
    "                x.append(key)\n",
    "                y.append(value)\n",
    "\n",
    "            if title[2] == 0:\n",
    "                if title[1] == 0:\n",
    "                    ax[0][0].plot(x,y)#, label=line_title_generator(title[0], title[-1]));\n",
    "                    ax[0][0].set_title(histo_title_generator(*title[1:-1]), fontsize='40')\n",
    "                    ax[0][0].tick_params(axis = 'both', which = 'major', labelsize = 30);\n",
    "                    ax[0][0].set_yscale(pltstyle);\n",
    "                    ax[0][0].set_ylabel('Fractal Dimension', fontsize='40');\n",
    "                elif title[1] == 1:\n",
    "                    ax[0][1].plot(x,y)#, label=line_title_generator(title[0], title[-1]));\n",
    "                    ax[0][1].set_title(histo_title_generator(*title[1:-1]), fontsize='40')\n",
    "                    ax[0][1].tick_params(axis = 'both', which = 'major', labelsize = 30);\n",
    "                    ax[0][1].set_yscale(pltstyle);\n",
    "                else:\n",
    "                    ax[0][2].plot(x,y, label=line_title_generator(title[0], title[-1]));\n",
    "                    ax[0][2].set_title(histo_title_generator(*title[1:-1]), fontsize='40')\n",
    "                    ax[0][2].tick_params(axis = 'both', which = 'major', labelsize = 30);\n",
    "                    ax[0][2].legend(bbox_to_anchor = (1.01,1.01), prop={'size': 20});\n",
    "                    ax[0][2].set_yscale(pltstyle);\n",
    "\n",
    "            elif title[2] == 1:\n",
    "                if title[1] == 0:\n",
    "                    ax[1][0].plot(x,y)#, label=line_title_generator(title[0], title[-1]));\n",
    "                    ax[1][0].set_title(histo_title_generator(*title[1:-1]), fontsize='40')\n",
    "                    ax[1][0].tick_params(axis = 'both', which = 'major', labelsize = 30);\n",
    "                    ax[1][0].set_yscale(pltstyle);\n",
    "                    ax[1][0].set_ylabel('Fractal Dimension', fontsize='40');\n",
    "                elif title[1] == 1:\n",
    "                    ax[1][1].plot(x,y)#, label=line_title_generator(title[0], title[-1]));\n",
    "                    ax[1][1].set_title(histo_title_generator(*title[1:-1]), fontsize='40')\n",
    "                    ax[1][1].tick_params(axis = 'both', which = 'major', labelsize = 30);\n",
    "                    ax[1][1].set_yscale(pltstyle);\n",
    "                else:\n",
    "                    ax[1][2].plot(x,y, label=line_title_generator(title[0], title[-1]));\n",
    "                    ax[1][2].legend(loc=\"upper left\", prop={'size': 20});\n",
    "                    ax[1][2].set_title(histo_title_generator(*title[1:-1]), fontsize='40')\n",
    "                    ax[1][2].tick_params(axis = 'both', which = 'major', labelsize = 30);\n",
    "                    ax[1][2].legend(bbox_to_anchor = (1.01,1.01), prop={'size': 20});\n",
    "                    ax[1][2].set_yscale(pltstyle);\n",
    "\n",
    "            elif title[2] == 2:\n",
    "                if title[1] == 0:\n",
    "                    ax[2][0].plot(x,y)#, label=line_title_generator(title[0], title[-1]));\n",
    "                    ax[2][0].set_title(histo_title_generator(*title[1:-1]), fontsize='40')\n",
    "                    ax[2][0].tick_params(axis = 'both', which = 'major', labelsize = 30);\n",
    "                    ax[2][0].set_yscale(pltstyle);\n",
    "                    ax[2][0].set_xlabel('m-slice value', fontsize='40');\n",
    "                    ax[2][0].set_ylabel('Fractal Dimension', fontsize='40');\n",
    "                elif title[1] == 1:\n",
    "                    ax[2][1].plot(x,y)#, label=line_title_generator(title[0], title[-1]));\n",
    "                    ax[2][1].set_title(histo_title_generator(*title[1:-1]), fontsize='40')\n",
    "                    ax[2][1].tick_params(axis = 'both', which = 'major', labelsize = 30);\n",
    "                    ax[2][1].set_yscale(pltstyle);\n",
    "                    ax[2][1].set_xlabel('m-slice value', fontsize='40');\n",
    "                else:\n",
    "                    ax[2][2].plot(x,y, label=line_title_generator(title[0], title[-1]));\n",
    "                    ax[2][2].legend(loc=\"upper left\", prop={'size': 20});\n",
    "                    ax[2][2].set_title(histo_title_generator(*title[1:-1]), fontsize='40')\n",
    "                    ax[2][2].tick_params(axis = 'both', which = 'major', labelsize = 30);  \n",
    "                    ax[2][2].legend(bbox_to_anchor = (1.01,1.01), prop={'size': 20});\n",
    "                    ax[2][2].set_yscale(pltstyle);\n",
    "                    ax[2][2].set_xlabel('m-slice value', fontsize='40');\n",
    "\n",
    "    plt.tight_layout();\n",
    "    plt.show();"
   ]
  },
  {
   "cell_type": "code",
   "execution_count": null,
   "id": "05e6fbdd",
   "metadata": {
    "slideshow": {
     "slide_type": "slide"
    }
   },
   "outputs": [],
   "source": [
    "visualize_fractal_dims(\"linear\")"
   ]
  },
  {
   "cell_type": "markdown",
   "id": "676376a4",
   "metadata": {},
   "source": [
    "<div class=\"alert alert-block alert-danger\">\n",
    "    Just like the paper - as seen by the plots above - the most important parameters to vary are the duplication rate and the attraction, especially when they are at their respectives extremes (Duplication = 0 and strong attraction). The repulsion has someeffect, but it is not really noticeable.\n",
    "</div>"
   ]
  }
 ],
 "metadata": {
  "kernelspec": {
   "display_name": "Python 3",
   "language": "python",
   "name": "python3"
  },
  "language_info": {
   "codemirror_mode": {
    "name": "ipython",
    "version": 3
   },
   "file_extension": ".py",
   "mimetype": "text/x-python",
   "name": "python",
   "nbconvert_exporter": "python",
   "pygments_lexer": "ipython3",
   "version": "3.9.2"
  }
 },
 "nbformat": 4,
 "nbformat_minor": 5
}
